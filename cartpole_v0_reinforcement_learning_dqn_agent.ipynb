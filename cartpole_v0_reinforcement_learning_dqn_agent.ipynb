{
 "cells": [
  {
   "cell_type": "markdown",
   "id": "sublime-briefing",
   "metadata": {},
   "source": [
    "# CartPole-v0 with DQNAgent"
   ]
  },
  {
   "cell_type": "markdown",
   "id": "smoking-mambo",
   "metadata": {},
   "source": [
    "by Mohammad Ayyaz Azeem"
   ]
  },
  {
   "cell_type": "markdown",
   "id": "finnish-hundred",
   "metadata": {},
   "source": [
    "## Step 01: Installing Dependencies"
   ]
  },
  {
   "cell_type": "code",
   "execution_count": 1,
   "id": "powered-consultation",
   "metadata": {},
   "outputs": [
    {
     "name": "stdout",
     "output_type": "stream",
     "text": [
      "Requirement already satisfied: tensorflow==2.3.0 in d:\\installed_program\\anaconda3\\lib\\site-packages (2.3.0)\n",
      "Requirement already satisfied: google-pasta>=0.1.8 in d:\\installed_program\\anaconda3\\lib\\site-packages (from tensorflow==2.3.0) (0.2.0)\n",
      "Requirement already satisfied: opt-einsum>=2.3.2 in d:\\installed_program\\anaconda3\\lib\\site-packages (from tensorflow==2.3.0) (3.3.0)\n",
      "Requirement already satisfied: h5py<2.11.0,>=2.10.0 in d:\\installed_program\\anaconda3\\lib\\site-packages (from tensorflow==2.3.0) (2.10.0)\n",
      "Requirement already satisfied: tensorboard<3,>=2.3.0 in d:\\installed_program\\anaconda3\\lib\\site-packages (from tensorflow==2.3.0) (2.4.1)\n",
      "Requirement already satisfied: scipy==1.4.1 in d:\\installed_program\\anaconda3\\lib\\site-packages (from tensorflow==2.3.0) (1.4.1)\n",
      "Requirement already satisfied: wrapt>=1.11.1 in d:\\installed_program\\anaconda3\\lib\\site-packages (from tensorflow==2.3.0) (1.12.1)\n",
      "Requirement already satisfied: tensorflow-estimator<2.4.0,>=2.3.0 in d:\\installed_program\\anaconda3\\lib\\site-packages (from tensorflow==2.3.0) (2.3.0)\n",
      "Requirement already satisfied: termcolor>=1.1.0 in d:\\installed_program\\anaconda3\\lib\\site-packages (from tensorflow==2.3.0) (1.1.0)\n",
      "Requirement already satisfied: numpy<1.19.0,>=1.16.0 in d:\\installed_program\\anaconda3\\lib\\site-packages (from tensorflow==2.3.0) (1.18.5)\n",
      "Requirement already satisfied: astunparse==1.6.3 in d:\\installed_program\\anaconda3\\lib\\site-packages (from tensorflow==2.3.0) (1.6.3)\n",
      "Requirement already satisfied: gast==0.3.3 in d:\\installed_program\\anaconda3\\lib\\site-packages (from tensorflow==2.3.0) (0.3.3)\n",
      "Requirement already satisfied: six>=1.12.0 in d:\\installed_program\\anaconda3\\lib\\site-packages (from tensorflow==2.3.0) (1.15.0)\n",
      "Requirement already satisfied: wheel>=0.26 in d:\\installed_program\\anaconda3\\lib\\site-packages (from tensorflow==2.3.0) (0.36.2)\n",
      "Requirement already satisfied: keras-preprocessing<1.2,>=1.1.1 in d:\\installed_program\\anaconda3\\lib\\site-packages (from tensorflow==2.3.0) (1.1.2)\n",
      "Requirement already satisfied: grpcio>=1.8.6 in d:\\installed_program\\anaconda3\\lib\\site-packages (from tensorflow==2.3.0) (1.32.0)\n",
      "Requirement already satisfied: absl-py>=0.7.0 in d:\\installed_program\\anaconda3\\lib\\site-packages (from tensorflow==2.3.0) (0.11.0)\n",
      "Requirement already satisfied: protobuf>=3.9.2 in d:\\installed_program\\anaconda3\\lib\\site-packages (from tensorflow==2.3.0) (3.15.5)\n",
      "Requirement already satisfied: google-auth<2,>=1.6.3 in d:\\installed_program\\anaconda3\\lib\\site-packages (from tensorboard<3,>=2.3.0->tensorflow==2.3.0) (1.27.1)\n",
      "Requirement already satisfied: google-auth-oauthlib<0.5,>=0.4.1 in d:\\installed_program\\anaconda3\\lib\\site-packages (from tensorboard<3,>=2.3.0->tensorflow==2.3.0) (0.4.3)\n",
      "Requirement already satisfied: setuptools>=41.0.0 in d:\\installed_program\\anaconda3\\lib\\site-packages (from tensorboard<3,>=2.3.0->tensorflow==2.3.0) (52.0.0.post20210125)\n",
      "Requirement already satisfied: tensorboard-plugin-wit>=1.6.0 in d:\\installed_program\\anaconda3\\lib\\site-packages (from tensorboard<3,>=2.3.0->tensorflow==2.3.0) (1.8.0)\n",
      "Requirement already satisfied: werkzeug>=0.11.15 in d:\\installed_program\\anaconda3\\lib\\site-packages (from tensorboard<3,>=2.3.0->tensorflow==2.3.0) (1.0.1)\n",
      "Requirement already satisfied: requests<3,>=2.21.0 in d:\\installed_program\\anaconda3\\lib\\site-packages (from tensorboard<3,>=2.3.0->tensorflow==2.3.0) (2.27.0)\n",
      "Requirement already satisfied: markdown>=2.6.8 in d:\\installed_program\\anaconda3\\lib\\site-packages (from tensorboard<3,>=2.3.0->tensorflow==2.3.0) (3.3.4)\n",
      "Requirement already satisfied: pyasn1-modules>=0.2.1 in d:\\installed_program\\anaconda3\\lib\\site-packages (from google-auth<2,>=1.6.3->tensorboard<3,>=2.3.0->tensorflow==2.3.0) (0.2.8)\n",
      "Requirement already satisfied: cachetools<5.0,>=2.0.0 in d:\\installed_program\\anaconda3\\lib\\site-packages (from google-auth<2,>=1.6.3->tensorboard<3,>=2.3.0->tensorflow==2.3.0) (4.2.1)\n",
      "Requirement already satisfied: rsa<5,>=3.1.4 in d:\\installed_program\\anaconda3\\lib\\site-packages (from google-auth<2,>=1.6.3->tensorboard<3,>=2.3.0->tensorflow==2.3.0) (4.7.2)\n",
      "Requirement already satisfied: requests-oauthlib>=0.7.0 in d:\\installed_program\\anaconda3\\lib\\site-packages (from google-auth-oauthlib<0.5,>=0.4.1->tensorboard<3,>=2.3.0->tensorflow==2.3.0) (1.3.0)\n",
      "Requirement already satisfied: idna<4,>=2.5 in d:\\installed_program\\anaconda3\\lib\\site-packages (from requests<3,>=2.21.0->tensorboard<3,>=2.3.0->tensorflow==2.3.0) (2.6)\n",
      "Requirement already satisfied: charset-normalizer~=2.0.0 in d:\\installed_program\\anaconda3\\lib\\site-packages (from requests<3,>=2.21.0->tensorboard<3,>=2.3.0->tensorflow==2.3.0) (2.0.10)\n",
      "Requirement already satisfied: urllib3<1.27,>=1.21.1 in d:\\installed_program\\anaconda3\\lib\\site-packages (from requests<3,>=2.21.0->tensorboard<3,>=2.3.0->tensorflow==2.3.0) (1.22)\n",
      "Requirement already satisfied: certifi>=2017.4.17 in d:\\installed_program\\anaconda3\\lib\\site-packages (from requests<3,>=2.21.0->tensorboard<3,>=2.3.0->tensorflow==2.3.0) (2020.12.5)\n",
      "Requirement already satisfied: pyasn1<0.5.0,>=0.4.6 in d:\\installed_program\\anaconda3\\lib\\site-packages (from pyasn1-modules>=0.2.1->google-auth<2,>=1.6.3->tensorboard<3,>=2.3.0->tensorflow==2.3.0) (0.4.8)\n",
      "Requirement already satisfied: oauthlib>=3.0.0 in d:\\installed_program\\anaconda3\\lib\\site-packages (from requests-oauthlib>=0.7.0->google-auth-oauthlib<0.5,>=0.4.1->tensorboard<3,>=2.3.0->tensorflow==2.3.0) (3.1.0)\n",
      "Requirement already satisfied: gym in d:\\installed_program\\anaconda3\\lib\\site-packages (0.21.0)\n",
      "Requirement already satisfied: cloudpickle>=1.2.0 in d:\\installed_program\\anaconda3\\lib\\site-packages (from gym) (1.6.0)\n",
      "Requirement already satisfied: numpy>=1.18.0 in d:\\installed_program\\anaconda3\\lib\\site-packages (from gym) (1.18.5)\n",
      "Requirement already satisfied: keras in d:\\installed_program\\anaconda3\\lib\\site-packages (2.6.0)\n",
      "Requirement already satisfied: keras-rl2 in d:\\installed_program\\anaconda3\\lib\\site-packages (1.0.5)\n",
      "Requirement already satisfied: tensorflow in d:\\installed_program\\anaconda3\\lib\\site-packages (from keras-rl2) (2.3.0)\n",
      "Requirement already satisfied: opt-einsum>=2.3.2 in d:\\installed_program\\anaconda3\\lib\\site-packages (from tensorflow->keras-rl2) (3.3.0)\n",
      "Requirement already satisfied: gast==0.3.3 in d:\\installed_program\\anaconda3\\lib\\site-packages (from tensorflow->keras-rl2) (0.3.3)\n",
      "Requirement already satisfied: absl-py>=0.7.0 in d:\\installed_program\\anaconda3\\lib\\site-packages (from tensorflow->keras-rl2) (0.11.0)\n",
      "Requirement already satisfied: numpy<1.19.0,>=1.16.0 in d:\\installed_program\\anaconda3\\lib\\site-packages (from tensorflow->keras-rl2) (1.18.5)\n",
      "Requirement already satisfied: scipy==1.4.1 in d:\\installed_program\\anaconda3\\lib\\site-packages (from tensorflow->keras-rl2) (1.4.1)\n",
      "Requirement already satisfied: grpcio>=1.8.6 in d:\\installed_program\\anaconda3\\lib\\site-packages (from tensorflow->keras-rl2) (1.32.0)\n",
      "Requirement already satisfied: google-pasta>=0.1.8 in d:\\installed_program\\anaconda3\\lib\\site-packages (from tensorflow->keras-rl2) (0.2.0)\n",
      "Requirement already satisfied: tensorflow-estimator<2.4.0,>=2.3.0 in d:\\installed_program\\anaconda3\\lib\\site-packages (from tensorflow->keras-rl2) (2.3.0)\n",
      "Requirement already satisfied: wrapt>=1.11.1 in d:\\installed_program\\anaconda3\\lib\\site-packages (from tensorflow->keras-rl2) (1.12.1)\n",
      "Requirement already satisfied: six>=1.12.0 in d:\\installed_program\\anaconda3\\lib\\site-packages (from tensorflow->keras-rl2) (1.15.0)\n",
      "Requirement already satisfied: keras-preprocessing<1.2,>=1.1.1 in d:\\installed_program\\anaconda3\\lib\\site-packages (from tensorflow->keras-rl2) (1.1.2)\n",
      "Requirement already satisfied: tensorboard<3,>=2.3.0 in d:\\installed_program\\anaconda3\\lib\\site-packages (from tensorflow->keras-rl2) (2.4.1)\n",
      "Requirement already satisfied: wheel>=0.26 in d:\\installed_program\\anaconda3\\lib\\site-packages (from tensorflow->keras-rl2) (0.36.2)\n",
      "Requirement already satisfied: astunparse==1.6.3 in d:\\installed_program\\anaconda3\\lib\\site-packages (from tensorflow->keras-rl2) (1.6.3)\n",
      "Requirement already satisfied: h5py<2.11.0,>=2.10.0 in d:\\installed_program\\anaconda3\\lib\\site-packages (from tensorflow->keras-rl2) (2.10.0)\n",
      "Requirement already satisfied: protobuf>=3.9.2 in d:\\installed_program\\anaconda3\\lib\\site-packages (from tensorflow->keras-rl2) (3.15.5)\n",
      "Requirement already satisfied: termcolor>=1.1.0 in d:\\installed_program\\anaconda3\\lib\\site-packages (from tensorflow->keras-rl2) (1.1.0)\n",
      "Requirement already satisfied: google-auth-oauthlib<0.5,>=0.4.1 in d:\\installed_program\\anaconda3\\lib\\site-packages (from tensorboard<3,>=2.3.0->tensorflow->keras-rl2) (0.4.3)\n",
      "Requirement already satisfied: setuptools>=41.0.0 in d:\\installed_program\\anaconda3\\lib\\site-packages (from tensorboard<3,>=2.3.0->tensorflow->keras-rl2) (52.0.0.post20210125)\n",
      "Requirement already satisfied: tensorboard-plugin-wit>=1.6.0 in d:\\installed_program\\anaconda3\\lib\\site-packages (from tensorboard<3,>=2.3.0->tensorflow->keras-rl2) (1.8.0)\n",
      "Requirement already satisfied: markdown>=2.6.8 in d:\\installed_program\\anaconda3\\lib\\site-packages (from tensorboard<3,>=2.3.0->tensorflow->keras-rl2) (3.3.4)\n",
      "Requirement already satisfied: google-auth<2,>=1.6.3 in d:\\installed_program\\anaconda3\\lib\\site-packages (from tensorboard<3,>=2.3.0->tensorflow->keras-rl2) (1.27.1)\n",
      "Requirement already satisfied: werkzeug>=0.11.15 in d:\\installed_program\\anaconda3\\lib\\site-packages (from tensorboard<3,>=2.3.0->tensorflow->keras-rl2) (1.0.1)\n",
      "Requirement already satisfied: requests<3,>=2.21.0 in d:\\installed_program\\anaconda3\\lib\\site-packages (from tensorboard<3,>=2.3.0->tensorflow->keras-rl2) (2.27.0)\n",
      "Requirement already satisfied: pyasn1-modules>=0.2.1 in d:\\installed_program\\anaconda3\\lib\\site-packages (from google-auth<2,>=1.6.3->tensorboard<3,>=2.3.0->tensorflow->keras-rl2) (0.2.8)\n",
      "Requirement already satisfied: rsa<5,>=3.1.4 in d:\\installed_program\\anaconda3\\lib\\site-packages (from google-auth<2,>=1.6.3->tensorboard<3,>=2.3.0->tensorflow->keras-rl2) (4.7.2)\n",
      "Requirement already satisfied: cachetools<5.0,>=2.0.0 in d:\\installed_program\\anaconda3\\lib\\site-packages (from google-auth<2,>=1.6.3->tensorboard<3,>=2.3.0->tensorflow->keras-rl2) (4.2.1)\n",
      "Requirement already satisfied: requests-oauthlib>=0.7.0 in d:\\installed_program\\anaconda3\\lib\\site-packages (from google-auth-oauthlib<0.5,>=0.4.1->tensorboard<3,>=2.3.0->tensorflow->keras-rl2) (1.3.0)\n",
      "Requirement already satisfied: idna<4,>=2.5 in d:\\installed_program\\anaconda3\\lib\\site-packages (from requests<3,>=2.21.0->tensorboard<3,>=2.3.0->tensorflow->keras-rl2) (2.6)\n",
      "Requirement already satisfied: charset-normalizer~=2.0.0 in d:\\installed_program\\anaconda3\\lib\\site-packages (from requests<3,>=2.21.0->tensorboard<3,>=2.3.0->tensorflow->keras-rl2) (2.0.10)\n",
      "Requirement already satisfied: certifi>=2017.4.17 in d:\\installed_program\\anaconda3\\lib\\site-packages (from requests<3,>=2.21.0->tensorboard<3,>=2.3.0->tensorflow->keras-rl2) (2020.12.5)\n",
      "Requirement already satisfied: urllib3<1.27,>=1.21.1 in d:\\installed_program\\anaconda3\\lib\\site-packages (from requests<3,>=2.21.0->tensorboard<3,>=2.3.0->tensorflow->keras-rl2) (1.22)\n",
      "Requirement already satisfied: pyasn1<0.5.0,>=0.4.6 in d:\\installed_program\\anaconda3\\lib\\site-packages (from pyasn1-modules>=0.2.1->google-auth<2,>=1.6.3->tensorboard<3,>=2.3.0->tensorflow->keras-rl2) (0.4.8)\n",
      "Requirement already satisfied: oauthlib>=3.0.0 in d:\\installed_program\\anaconda3\\lib\\site-packages (from requests-oauthlib>=0.7.0->google-auth-oauthlib<0.5,>=0.4.1->tensorboard<3,>=2.3.0->tensorflow->keras-rl2) (3.1.0)\n"
     ]
    },
    {
     "name": "stdout",
     "output_type": "stream",
     "text": [
      "Requirement already satisfied: pyglet in d:\\installed_program\\anaconda3\\lib\\site-packages (1.5.21)\n"
     ]
    }
   ],
   "source": [
    "!pip install tensorflow==2.3.0\n",
    "!pip install gym\n",
    "!pip install keras\n",
    "!pip install keras-rl2\n",
    "!pip install pyglet"
   ]
  },
  {
   "cell_type": "markdown",
   "id": "killing-onion",
   "metadata": {},
   "source": [
    "## Step 02: Testing Random Environment with OpenAI Gym"
   ]
  },
  {
   "cell_type": "code",
   "execution_count": 2,
   "id": "third-transaction",
   "metadata": {},
   "outputs": [],
   "source": [
    "import gym\n",
    "import random"
   ]
  },
  {
   "cell_type": "markdown",
   "id": "fewer-quantum",
   "metadata": {},
   "source": [
    "Setting up the environment"
   ]
  },
  {
   "cell_type": "code",
   "execution_count": 3,
   "id": "identified-progressive",
   "metadata": {},
   "outputs": [],
   "source": [
    "env = gym.make('CartPole-v0') #make method to build our cartpole environment\n",
    "states = env.observation_space.shape[0] # to look at all different states\n",
    "actions = env.action_space.n # the number of actions"
   ]
  },
  {
   "cell_type": "markdown",
   "id": "naughty-significance",
   "metadata": {},
   "source": [
    "type of states and action "
   ]
  },
  {
   "cell_type": "code",
   "execution_count": 4,
   "id": "meaningful-building",
   "metadata": {},
   "outputs": [
    {
     "data": {
      "text/plain": [
       "(int, int)"
      ]
     },
     "execution_count": 4,
     "metadata": {},
     "output_type": "execute_result"
    }
   ],
   "source": [
    "type(states),type(actions)"
   ]
  },
  {
   "cell_type": "markdown",
   "id": "opposed-recruitment",
   "metadata": {},
   "source": [
    "number of states and action"
   ]
  },
  {
   "cell_type": "code",
   "execution_count": 5,
   "id": "precise-robin",
   "metadata": {},
   "outputs": [
    {
     "data": {
      "text/plain": [
       "(4, 2)"
      ]
     },
     "execution_count": 5,
     "metadata": {},
     "output_type": "execute_result"
    }
   ],
   "source": [
    "states, actions"
   ]
  },
  {
   "cell_type": "markdown",
   "id": "early-calculator",
   "metadata": {},
   "source": [
    "actions = 2 meaning Left or Right movement of cartpole"
   ]
  },
  {
   "cell_type": "markdown",
   "id": "shaped-deployment",
   "metadata": {},
   "source": [
    "..."
   ]
  },
  {
   "cell_type": "markdown",
   "id": "royal-rebound",
   "metadata": {},
   "source": [
    "visualize our cartpole by taking random steps and create reward (max reward is 200 points)"
   ]
  },
  {
   "cell_type": "code",
   "execution_count": 6,
   "id": "suffering-postage",
   "metadata": {},
   "outputs": [
    {
     "name": "stderr",
     "output_type": "stream",
     "text": [
      "d:\\installed_program\\anaconda3\\lib\\site-packages\\pyglet\\window\\__init__.py:667: UserWarning: \n",
      "Your graphics drivers do not support OpenGL 2.0.\n",
      "You may experience rendering issues or crashes.\n",
      "Microsoft Corporation\n",
      "GDI Generic\n",
      "1.1.0\n",
      "  warnings.warn(message)\n"
     ]
    },
    {
     "name": "stdout",
     "output_type": "stream",
     "text": [
      "Episode:1 Score: 51.0\n",
      "Episode:2 Score: 30.0\n",
      "Episode:3 Score: 15.0\n",
      "Episode:4 Score: 14.0\n",
      "Episode:5 Score: 14.0\n",
      "Episode:6 Score: 9.0\n",
      "Episode:7 Score: 25.0\n",
      "Episode:8 Score: 12.0\n",
      "Episode:9 Score: 18.0\n",
      "Episode:10 Score: 14.0\n",
      "Episode:11 Score: 10.0\n",
      "Episode:12 Score: 22.0\n",
      "Episode:13 Score: 15.0\n",
      "Episode:14 Score: 31.0\n",
      "Episode:15 Score: 15.0\n"
     ]
    }
   ],
   "source": [
    "episodes = 15\n",
    "for i in range(1, episodes+1):\n",
    "    state = env.reset()\n",
    "    done = False\n",
    "    score = 0\n",
    "    \n",
    "    while not done:\n",
    "        env.render() # allows us to see our cart in action\n",
    "        action = random.choice([0,1]) #  random choice left or right\n",
    "        n_state, reward, done, info = env.step(action) # taking a random step,\n",
    "        score+=reward # based on our step we will get reward and we accumulate a score, at the very end done = True \n",
    "    print('Episode:{} Score: {}'.format(i,score))"
   ]
  },
  {
   "cell_type": "markdown",
   "id": "floral-fortune",
   "metadata": {},
   "source": [
    "## Step 03. Create a Deep Learning Model with Keras"
   ]
  },
  {
   "cell_type": "markdown",
   "id": "configured-durham",
   "metadata": {},
   "source": [
    "importing relevant dependencies"
   ]
  },
  {
   "cell_type": "code",
   "execution_count": 7,
   "id": "transsexual-wireless",
   "metadata": {},
   "outputs": [],
   "source": [
    "import numpy as np\n",
    "import tensorflow\n",
    "from tensorflow import keras\n",
    "from tensorflow.keras import layers\n",
    "from tensorflow.keras.models import Sequential # allow us to build sequential model with keras\n",
    "from tensorflow.keras.layers import Dense, Flatten # 2 different types of layers\n",
    "from tensorflow.keras.optimizers import Adam # adam optimizer"
   ]
  },
  {
   "cell_type": "markdown",
   "id": "known-solid",
   "metadata": {},
   "source": [
    "create a build_model function that helps us finalize a model, for the final layer we tried with softmax activation function but the results were not encouraging, so we used linear activation function and achieved better results"
   ]
  },
  {
   "cell_type": "code",
   "execution_count": 8,
   "id": "legal-header",
   "metadata": {},
   "outputs": [],
   "source": [
    "def build_model(states,actions):\n",
    "    model=tensorflow.keras.models.Sequential()\n",
    "    model.add(tensorflow.keras.layers.Flatten(input_shape=(1,states))) # states = 4\n",
    "    model.add(tensorflow.keras.layers.Dense(24, activation='relu'))\n",
    "    model.add(tensorflow.keras.layers.Dense(24, activation='relu'))\n",
    "    model.add(tensorflow.keras.layers.Dense(actions, activation='linear')) # actions = 2 at the output. Last-layer activation function is sigmoid for Binary Classification link: https://www.dlology.com/blog/how-to-choose-last-layer-activation-and-loss-function/\n",
    "    return model"
   ]
  },
  {
   "cell_type": "code",
   "execution_count": 9,
   "id": "adapted-affiliation",
   "metadata": {},
   "outputs": [],
   "source": [
    "model=build_model(states,actions)"
   ]
  },
  {
   "cell_type": "markdown",
   "id": "separate-poster",
   "metadata": {},
   "source": [
    "## Step 04: Visualizing the model "
   ]
  },
  {
   "cell_type": "code",
   "execution_count": 10,
   "id": "ranking-controversy",
   "metadata": {},
   "outputs": [
    {
     "name": "stdout",
     "output_type": "stream",
     "text": [
      "Model: \"sequential\"\n",
      "_________________________________________________________________\n",
      "Layer (type)                 Output Shape              Param #   \n",
      "=================================================================\n",
      "flatten (Flatten)            (None, 4)                 0         \n",
      "_________________________________________________________________\n",
      "dense (Dense)                (None, 24)                120       \n",
      "_________________________________________________________________\n",
      "dense_1 (Dense)              (None, 24)                600       \n",
      "_________________________________________________________________\n",
      "dense_2 (Dense)              (None, 2)                 50        \n",
      "=================================================================\n",
      "Total params: 770\n",
      "Trainable params: 770\n",
      "Non-trainable params: 0\n",
      "_________________________________________________________________\n"
     ]
    }
   ],
   "source": [
    "model.summary()"
   ]
  },
  {
   "cell_type": "markdown",
   "id": "intended-stadium",
   "metadata": {},
   "source": [
    "visualize the model, with plot_model"
   ]
  },
  {
   "cell_type": "code",
   "execution_count": 11,
   "id": "convertible-cleaner",
   "metadata": {},
   "outputs": [
    {
     "data": {
      "image/png": "[encoded data removed]",
      "text/plain": [
       "<IPython.core.display.Image object>"
      ]
     },
     "execution_count": 11,
     "metadata": {},
     "output_type": "execute_result"
    }
   ],
   "source": [
    "#from keras.utils.vis_utils import plot_model\n",
    "tensorflow.keras.utils.plot_model(model, to_file='model_plot.png', show_shapes=True, show_layer_names=True)"
   ]
  },
  {
   "cell_type": "markdown",
   "id": "persistent-canadian",
   "metadata": {},
   "source": [
    "visualize the model, with visualkeras"
   ]
  },
  {
   "cell_type": "code",
   "execution_count": 12,
   "id": "hundred-runner",
   "metadata": {},
   "outputs": [
    {
     "name": "stdout",
     "output_type": "stream",
     "text": [
      "Requirement already satisfied: visualkeras in d:\\installed_program\\anaconda3\\lib\\site-packages (0.0.2)\n",
      "Requirement already satisfied: aggdraw>=1.3.11 in d:\\installed_program\\anaconda3\\lib\\site-packages (from visualkeras) (1.3.12)\n",
      "Requirement already satisfied: numpy>=1.18.1 in d:\\installed_program\\anaconda3\\lib\\site-packages (from visualkeras) (1.18.5)\n",
      "Requirement already satisfied: pillow>=6.2.0 in d:\\installed_program\\anaconda3\\lib\\site-packages (from visualkeras) (8.1.0)\n"
     ]
    }
   ],
   "source": [
    "!pip install visualkeras"
   ]
  },
  {
   "cell_type": "code",
   "execution_count": 13,
   "id": "committed-breakdown",
   "metadata": {},
   "outputs": [],
   "source": [
    "import visualkeras"
   ]
  },
  {
   "cell_type": "code",
   "execution_count": 14,
   "id": "short-reminder",
   "metadata": {},
   "outputs": [
    {
     "data": {
      "image/png": "[encoded data removed]",
      "text/plain": [
       "<PIL.Image.Image image mode=RGBA size=137x27 at 0x12DFCC2AF10>"
      ]
     },
     "execution_count": 14,
     "metadata": {},
     "output_type": "execute_result"
    }
   ],
   "source": [
    "visualkeras.layered_view(model, to_file=\"model.png\")"
   ]
  },
  {
   "cell_type": "markdown",
   "id": "demographic-impact",
   "metadata": {},
   "source": [
    "## Step 05: Build agent with Keras-RL"
   ]
  },
  {
   "cell_type": "code",
   "execution_count": 15,
   "id": "modified-devon",
   "metadata": {},
   "outputs": [],
   "source": [
    "from rl.agents import DQNAgent\n",
    "from rl.policy import BoltzmannQPolicy\n",
    "from rl.memory import SequentialMemory"
   ]
  },
  {
   "cell_type": "code",
   "execution_count": 16,
   "id": "honest-excerpt",
   "metadata": {},
   "outputs": [],
   "source": [
    "def build_agent(model,actions):\n",
    "    policy=BoltzmannQPolicy()\n",
    "    memory=SequentialMemory(limit=50000,window_length=1)\n",
    "    dqn=DQNAgent(model=model,\n",
    "                 memory=memory,\n",
    "                 policy=policy,\n",
    "                 nb_actions=actions,\n",
    "                 nb_steps_warmup=10,\n",
    "                 target_model_update=1e-2\n",
    "                )\n",
    "    return dqn"
   ]
  },
  {
   "cell_type": "markdown",
   "id": "streaming-journey",
   "metadata": {},
   "source": [
    "the first line is used in the following box to avoid this error: AttributeError: 'Sequential' object has no attribute '_compile_time_distribution_strategy'"
   ]
  },
  {
   "cell_type": "code",
   "execution_count": 17,
   "id": "fiscal-soldier",
   "metadata": {},
   "outputs": [
    {
     "name": "stdout",
     "output_type": "stream",
     "text": [
      "Training for 50000 steps ...\n",
      "Interval 1 (0 steps performed)\n",
      "WARNING:tensorflow:From d:\\installed_program\\anaconda3\\lib\\site-packages\\tensorflow\\python\\keras\\engine\\training_v1.py:2070: Model.state_updates (from tensorflow.python.keras.engine.training) is deprecated and will be removed in a future version.\n",
      "Instructions for updating:\n",
      "This property should not be used in TensorFlow 2.0, as updates are applied automatically.\n",
      "    1/10000 [..............................] - ETA: 28:01 - reward: 1.0000"
     ]
    },
    {
     "name": "stderr",
     "output_type": "stream",
     "text": [
      "d:\\installed_program\\anaconda3\\lib\\site-packages\\rl\\memory.py:37: UserWarning: Not enough entries to sample without replacement. Consider increasing your warm-up phase to avoid oversampling!\n",
      "  warnings.warn('Not enough entries to sample without replacement. Consider increasing your warm-up phase to avoid oversampling!')\n"
     ]
    },
    {
     "name": "stdout",
     "output_type": "stream",
     "text": [
      "10000/10000 [==============================] - 89s 9ms/step - reward: 1.0000\n",
      "104 episodes - episode_reward: 95.192 [10.000, 200.000] - loss: 3.311 - mae: 19.183 - mean_q: 38.718\n",
      "\n",
      "Interval 2 (10000 steps performed)\n",
      "10000/10000 [==============================] - 87s 9ms/step - reward: 1.0000\n",
      "51 episodes - episode_reward: 196.627 [166.000, 200.000] - loss: 5.742 - mae: 37.028 - mean_q: 74.488\n",
      "\n",
      "Interval 3 (20000 steps performed)\n",
      "10000/10000 [==============================] - 96s 10ms/step - reward: 1.0000\n",
      "51 episodes - episode_reward: 197.255 [168.000, 200.000] - loss: 4.786 - mae: 38.700 - mean_q: 77.698\n",
      "\n",
      "Interval 4 (30000 steps performed)\n",
      "10000/10000 [==============================] - 103s 10ms/step - reward: 1.0000\n",
      "50 episodes - episode_reward: 199.880 [194.000, 200.000] - loss: 6.237 - mae: 38.725 - mean_q: 77.743\n",
      "\n",
      "Interval 5 (40000 steps performed)\n",
      "10000/10000 [==============================] - 89s 9ms/step - reward: 1.0000\n",
      "done, took 464.930 seconds\n"
     ]
    },
    {
     "data": {
      "text/plain": [
       "<tensorflow.python.keras.callbacks.History at 0x12dfca117f0>"
      ]
     },
     "execution_count": 17,
     "metadata": {},
     "output_type": "execute_result"
    }
   ],
   "source": [
    "model=build_model(states,actions) # if we comment the first line we get the above error\n",
    "dqn = build_agent(model,actions)\n",
    "dqn.compile(tensorflow.keras.optimizers.Adam(lr=1e-3), metrics=['mae'])\n",
    "dqn.fit(env,nb_steps=50000,visualize=False,verbose=1)"
   ]
  },
  {
   "cell_type": "code",
   "execution_count": 18,
   "id": "agricultural-colombia",
   "metadata": {},
   "outputs": [
    {
     "name": "stdout",
     "output_type": "stream",
     "text": [
      "Testing for 100 episodes ...\n",
      "Episode 1: reward: 200.000, steps: 200\n",
      "Episode 2: reward: 200.000, steps: 200\n",
      "Episode 3: reward: 200.000, steps: 200\n",
      "Episode 4: reward: 200.000, steps: 200\n",
      "Episode 5: reward: 200.000, steps: 200\n",
      "Episode 6: reward: 200.000, steps: 200\n",
      "Episode 7: reward: 200.000, steps: 200\n",
      "Episode 8: reward: 200.000, steps: 200\n",
      "Episode 9: reward: 200.000, steps: 200\n",
      "Episode 10: reward: 200.000, steps: 200\n",
      "Episode 11: reward: 200.000, steps: 200\n",
      "Episode 12: reward: 200.000, steps: 200\n",
      "Episode 13: reward: 200.000, steps: 200\n",
      "Episode 14: reward: 200.000, steps: 200\n",
      "Episode 15: reward: 200.000, steps: 200\n",
      "Episode 16: reward: 200.000, steps: 200\n",
      "Episode 17: reward: 200.000, steps: 200\n",
      "Episode 18: reward: 200.000, steps: 200\n",
      "Episode 19: reward: 200.000, steps: 200\n",
      "Episode 20: reward: 200.000, steps: 200\n",
      "Episode 21: reward: 200.000, steps: 200\n",
      "Episode 22: reward: 200.000, steps: 200\n",
      "Episode 23: reward: 200.000, steps: 200\n",
      "Episode 24: reward: 200.000, steps: 200\n",
      "Episode 25: reward: 200.000, steps: 200\n",
      "Episode 26: reward: 200.000, steps: 200\n",
      "Episode 27: reward: 200.000, steps: 200\n",
      "Episode 28: reward: 200.000, steps: 200\n",
      "Episode 29: reward: 200.000, steps: 200\n",
      "Episode 30: reward: 200.000, steps: 200\n",
      "Episode 31: reward: 200.000, steps: 200\n",
      "Episode 32: reward: 200.000, steps: 200\n",
      "Episode 33: reward: 200.000, steps: 200\n",
      "Episode 34: reward: 200.000, steps: 200\n",
      "Episode 35: reward: 200.000, steps: 200\n",
      "Episode 36: reward: 200.000, steps: 200\n",
      "Episode 37: reward: 200.000, steps: 200\n",
      "Episode 38: reward: 200.000, steps: 200\n",
      "Episode 39: reward: 200.000, steps: 200\n",
      "Episode 40: reward: 200.000, steps: 200\n",
      "Episode 41: reward: 200.000, steps: 200\n",
      "Episode 42: reward: 200.000, steps: 200\n",
      "Episode 43: reward: 200.000, steps: 200\n",
      "Episode 44: reward: 200.000, steps: 200\n",
      "Episode 45: reward: 200.000, steps: 200\n",
      "Episode 46: reward: 200.000, steps: 200\n",
      "Episode 47: reward: 200.000, steps: 200\n",
      "Episode 48: reward: 200.000, steps: 200\n",
      "Episode 49: reward: 200.000, steps: 200\n",
      "Episode 50: reward: 200.000, steps: 200\n",
      "Episode 51: reward: 200.000, steps: 200\n",
      "Episode 52: reward: 200.000, steps: 200\n",
      "Episode 53: reward: 200.000, steps: 200\n",
      "Episode 54: reward: 200.000, steps: 200\n",
      "Episode 55: reward: 200.000, steps: 200\n",
      "Episode 56: reward: 200.000, steps: 200\n",
      "Episode 57: reward: 200.000, steps: 200\n",
      "Episode 58: reward: 200.000, steps: 200\n",
      "Episode 59: reward: 200.000, steps: 200\n",
      "Episode 60: reward: 200.000, steps: 200\n",
      "Episode 61: reward: 200.000, steps: 200\n",
      "Episode 62: reward: 200.000, steps: 200\n",
      "Episode 63: reward: 200.000, steps: 200\n",
      "Episode 64: reward: 200.000, steps: 200\n",
      "Episode 65: reward: 200.000, steps: 200\n",
      "Episode 66: reward: 200.000, steps: 200\n",
      "Episode 67: reward: 200.000, steps: 200\n",
      "Episode 68: reward: 200.000, steps: 200\n",
      "Episode 69: reward: 200.000, steps: 200\n",
      "Episode 70: reward: 200.000, steps: 200\n",
      "Episode 71: reward: 200.000, steps: 200\n",
      "Episode 72: reward: 200.000, steps: 200\n",
      "Episode 73: reward: 200.000, steps: 200\n",
      "Episode 74: reward: 200.000, steps: 200\n",
      "Episode 75: reward: 200.000, steps: 200\n",
      "Episode 76: reward: 200.000, steps: 200\n",
      "Episode 77: reward: 200.000, steps: 200\n",
      "Episode 78: reward: 200.000, steps: 200\n",
      "Episode 79: reward: 200.000, steps: 200\n",
      "Episode 80: reward: 200.000, steps: 200\n",
      "Episode 81: reward: 200.000, steps: 200\n",
      "Episode 82: reward: 200.000, steps: 200\n",
      "Episode 83: reward: 200.000, steps: 200\n",
      "Episode 84: reward: 200.000, steps: 200\n",
      "Episode 85: reward: 200.000, steps: 200\n",
      "Episode 86: reward: 200.000, steps: 200\n",
      "Episode 87: reward: 200.000, steps: 200\n",
      "Episode 88: reward: 200.000, steps: 200\n",
      "Episode 89: reward: 200.000, steps: 200\n",
      "Episode 90: reward: 200.000, steps: 200\n",
      "Episode 91: reward: 200.000, steps: 200\n",
      "Episode 92: reward: 200.000, steps: 200\n",
      "Episode 93: reward: 200.000, steps: 200\n",
      "Episode 94: reward: 200.000, steps: 200\n",
      "Episode 95: reward: 200.000, steps: 200\n",
      "Episode 96: reward: 200.000, steps: 200\n",
      "Episode 97: reward: 200.000, steps: 200\n",
      "Episode 98: reward: 200.000, steps: 200\n",
      "Episode 99: reward: 200.000, steps: 200\n",
      "Episode 100: reward: 200.000, steps: 200\n",
      "mean result: 200.0\n"
     ]
    }
   ],
   "source": [
    "import numpy as np\n",
    "scores=dqn.test(env, nb_episodes=100, visualize=False)\n",
    "print('mean result: {}'.format(np.mean(scores.history['episode_reward'])))"
   ]
  },
  {
   "cell_type": "code",
   "execution_count": 19,
   "id": "nearby-catch",
   "metadata": {},
   "outputs": [
    {
     "name": "stdout",
     "output_type": "stream",
     "text": [
      "mean result: 200.0\n"
     ]
    }
   ],
   "source": [
    "print('mean result: {}'.format(np.mean(scores.history['episode_reward'])))"
   ]
  },
  {
   "cell_type": "markdown",
   "id": "short-bulgaria",
   "metadata": {},
   "source": [
    "visualize for 10 examples"
   ]
  },
  {
   "cell_type": "code",
   "execution_count": 20,
   "id": "damaged-herald",
   "metadata": {},
   "outputs": [
    {
     "name": "stdout",
     "output_type": "stream",
     "text": [
      "Testing for 10 episodes ...\n",
      "Episode 1: reward: 200.000, steps: 200\n",
      "Episode 2: reward: 200.000, steps: 200\n",
      "Episode 3: reward: 200.000, steps: 200\n",
      "Episode 4: reward: 200.000, steps: 200\n",
      "Episode 5: reward: 200.000, steps: 200\n",
      "Episode 6: reward: 200.000, steps: 200\n",
      "Episode 7: reward: 200.000, steps: 200\n",
      "Episode 8: reward: 200.000, steps: 200\n",
      "Episode 9: reward: 200.000, steps: 200\n",
      "Episode 10: reward: 200.000, steps: 200\n"
     ]
    }
   ],
   "source": [
    "_ = dqn.test(env, nb_episodes = 10, visualize=True)"
   ]
  },
  {
   "cell_type": "markdown",
   "id": "composite-mountain",
   "metadata": {},
   "source": [
    "## Step 06: Reloading Agent from Memory"
   ]
  },
  {
   "cell_type": "markdown",
   "id": "extreme-fault",
   "metadata": {},
   "source": [
    "Running the following command we can save the weights of our model and reload later on"
   ]
  },
  {
   "cell_type": "code",
   "execution_count": 21,
   "id": "overall-consequence",
   "metadata": {},
   "outputs": [],
   "source": [
    "dqn.save_weights('dqn_weights.h5f',overwrite=True)"
   ]
  },
  {
   "cell_type": "markdown",
   "id": "renewable-seller",
   "metadata": {},
   "source": [
    "now we delete the already created model, dqn agent and environment, and recreate the whole scnerio again and use the above saved model in h5f format to obtain the result"
   ]
  },
  {
   "cell_type": "code",
   "execution_count": 22,
   "id": "stupid-documentation",
   "metadata": {},
   "outputs": [],
   "source": [
    "del model\n",
    "del dqn\n",
    "del env"
   ]
  },
  {
   "cell_type": "markdown",
   "id": "alike-dylan",
   "metadata": {},
   "source": [
    "rebuilding functions and dqn agent agent"
   ]
  },
  {
   "cell_type": "code",
   "execution_count": 23,
   "id": "provincial-sweden",
   "metadata": {},
   "outputs": [],
   "source": [
    "env=gym.make('CartPole-v0')\n",
    "actions=env.action_space.n\n",
    "states = env.observation_space.shape[0]\n",
    "model=build_model(states,actions)\n",
    "dqn=build_agent(model,actions)\n",
    "dqn.compile(tensorflow.keras.optimizers.Adam(lr=1e-3), metrics=['mae'])"
   ]
  },
  {
   "cell_type": "markdown",
   "id": "adolescent-utility",
   "metadata": {},
   "source": [
    "reload weights now"
   ]
  },
  {
   "cell_type": "code",
   "execution_count": 24,
   "id": "inside-resident",
   "metadata": {},
   "outputs": [],
   "source": [
    "dqn.load_weights('dqn_weights.h5f')"
   ]
  },
  {
   "cell_type": "code",
   "execution_count": 25,
   "id": "genetic-promotion",
   "metadata": {},
   "outputs": [
    {
     "name": "stdout",
     "output_type": "stream",
     "text": [
      "Testing for 5 episodes ...\n"
     ]
    },
    {
     "name": "stderr",
     "output_type": "stream",
     "text": [
      "d:\\installed_program\\anaconda3\\lib\\site-packages\\pyglet\\window\\__init__.py:667: UserWarning: \n",
      "Your graphics drivers do not support OpenGL 2.0.\n",
      "You may experience rendering issues or crashes.\n",
      "Microsoft Corporation\n",
      "GDI Generic\n",
      "1.1.0\n",
      "  warnings.warn(message)\n"
     ]
    },
    {
     "name": "stdout",
     "output_type": "stream",
     "text": [
      "Episode 1: reward: 200.000, steps: 200\n",
      "Episode 2: reward: 200.000, steps: 200\n",
      "Episode 3: reward: 200.000, steps: 200\n",
      "Episode 4: reward: 200.000, steps: 200\n",
      "Episode 5: reward: 200.000, steps: 200\n"
     ]
    }
   ],
   "source": [
    "_=dqn.test(env,nb_episodes=5,visualize=True)"
   ]
  },
  {
   "cell_type": "markdown",
   "id": "adapted-anthropology",
   "metadata": {},
   "source": [
    "--------------END---------------"
   ]
  },
  {
   "cell_type": "code",
   "execution_count": null,
   "id": "resistant-compression",
   "metadata": {},
   "outputs": [],
   "source": []
  }
 ],
 "metadata": {
  "kernelspec": {
   "display_name": "Python 3",
   "language": "python",
   "name": "python3"
  },
  "language_info": {
   "codemirror_mode": {
    "name": "ipython",
    "version": 3
   },
   "file_extension": ".py",
   "mimetype": "text/x-python",
   "name": "python",
   "nbconvert_exporter": "python",
   "pygments_lexer": "ipython3",
   "version": "3.8.5"
  }
 },
 "nbformat": 4,
 "nbformat_minor": 5
}
